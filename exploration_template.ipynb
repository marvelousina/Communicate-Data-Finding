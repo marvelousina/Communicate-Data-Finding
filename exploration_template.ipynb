{
 "cells": [
  {
   "cell_type": "markdown",
   "metadata": {},
   "source": [
    "# PISA Data Exploration\n",
    "## by In-A Park\n",
    "\n",
    "## Preliminary Wrangling\n",
    "\n",
    "> This document explores a dataset containing how prepared student's compulsory education system for life beyond school"
   ]
  },
  {
   "cell_type": "code",
   "execution_count": 1,
   "metadata": {},
   "outputs": [],
   "source": [
    "# import all packages and set plots to be embedded inline\n",
    "import numpy as np\n",
    "import pandas as pd\n",
    "import matplotlib.pyplot as plt\n",
    "import seaborn as sb\n",
    "\n",
    "%matplotlib inline"
   ]
  },
  {
   "cell_type": "code",
   "execution_count": 2,
   "metadata": {},
   "outputs": [],
   "source": [
    "file = 'pisa2012.csv'\n",
    "df = pd.read_csv(file, encoding='ISO-8859-1', low_memory=False, index_col=0)"
   ]
  },
  {
   "cell_type": "code",
   "execution_count": 3,
   "metadata": {},
   "outputs": [
    {
     "data": {
      "text/html": [
       "<div>\n",
       "<style scoped>\n",
       "    .dataframe tbody tr th:only-of-type {\n",
       "        vertical-align: middle;\n",
       "    }\n",
       "\n",
       "    .dataframe tbody tr th {\n",
       "        vertical-align: top;\n",
       "    }\n",
       "\n",
       "    .dataframe thead th {\n",
       "        text-align: right;\n",
       "    }\n",
       "</style>\n",
       "<table border=\"1\" class=\"dataframe\">\n",
       "  <thead>\n",
       "    <tr style=\"text-align: right;\">\n",
       "      <th></th>\n",
       "      <th>CNT</th>\n",
       "      <th>SUBNATIO</th>\n",
       "      <th>STRATUM</th>\n",
       "      <th>OECD</th>\n",
       "      <th>NC</th>\n",
       "      <th>SCHOOLID</th>\n",
       "      <th>STIDSTD</th>\n",
       "      <th>ST01Q01</th>\n",
       "      <th>ST02Q01</th>\n",
       "      <th>ST03Q01</th>\n",
       "      <th>...</th>\n",
       "      <th>W_FSTR75</th>\n",
       "      <th>W_FSTR76</th>\n",
       "      <th>W_FSTR77</th>\n",
       "      <th>W_FSTR78</th>\n",
       "      <th>W_FSTR79</th>\n",
       "      <th>W_FSTR80</th>\n",
       "      <th>WVARSTRR</th>\n",
       "      <th>VAR_UNIT</th>\n",
       "      <th>SENWGT_STU</th>\n",
       "      <th>VER_STU</th>\n",
       "    </tr>\n",
       "  </thead>\n",
       "  <tbody>\n",
       "    <tr>\n",
       "      <th>1</th>\n",
       "      <td>Albania</td>\n",
       "      <td>80000</td>\n",
       "      <td>ALB0006</td>\n",
       "      <td>Non-OECD</td>\n",
       "      <td>Albania</td>\n",
       "      <td>1</td>\n",
       "      <td>1</td>\n",
       "      <td>10</td>\n",
       "      <td>1.0</td>\n",
       "      <td>2</td>\n",
       "      <td>...</td>\n",
       "      <td>13.7954</td>\n",
       "      <td>13.9235</td>\n",
       "      <td>13.1249</td>\n",
       "      <td>13.1249</td>\n",
       "      <td>4.3389</td>\n",
       "      <td>13.0829</td>\n",
       "      <td>19</td>\n",
       "      <td>1</td>\n",
       "      <td>0.2098</td>\n",
       "      <td>22NOV13</td>\n",
       "    </tr>\n",
       "    <tr>\n",
       "      <th>2</th>\n",
       "      <td>Albania</td>\n",
       "      <td>80000</td>\n",
       "      <td>ALB0006</td>\n",
       "      <td>Non-OECD</td>\n",
       "      <td>Albania</td>\n",
       "      <td>1</td>\n",
       "      <td>2</td>\n",
       "      <td>10</td>\n",
       "      <td>1.0</td>\n",
       "      <td>2</td>\n",
       "      <td>...</td>\n",
       "      <td>13.7954</td>\n",
       "      <td>13.9235</td>\n",
       "      <td>13.1249</td>\n",
       "      <td>13.1249</td>\n",
       "      <td>4.3389</td>\n",
       "      <td>13.0829</td>\n",
       "      <td>19</td>\n",
       "      <td>1</td>\n",
       "      <td>0.2098</td>\n",
       "      <td>22NOV13</td>\n",
       "    </tr>\n",
       "    <tr>\n",
       "      <th>3</th>\n",
       "      <td>Albania</td>\n",
       "      <td>80000</td>\n",
       "      <td>ALB0006</td>\n",
       "      <td>Non-OECD</td>\n",
       "      <td>Albania</td>\n",
       "      <td>1</td>\n",
       "      <td>3</td>\n",
       "      <td>9</td>\n",
       "      <td>1.0</td>\n",
       "      <td>9</td>\n",
       "      <td>...</td>\n",
       "      <td>12.7307</td>\n",
       "      <td>12.7307</td>\n",
       "      <td>12.7307</td>\n",
       "      <td>12.7307</td>\n",
       "      <td>4.2436</td>\n",
       "      <td>12.7307</td>\n",
       "      <td>19</td>\n",
       "      <td>1</td>\n",
       "      <td>0.1999</td>\n",
       "      <td>22NOV13</td>\n",
       "    </tr>\n",
       "    <tr>\n",
       "      <th>4</th>\n",
       "      <td>Albania</td>\n",
       "      <td>80000</td>\n",
       "      <td>ALB0006</td>\n",
       "      <td>Non-OECD</td>\n",
       "      <td>Albania</td>\n",
       "      <td>1</td>\n",
       "      <td>4</td>\n",
       "      <td>9</td>\n",
       "      <td>1.0</td>\n",
       "      <td>8</td>\n",
       "      <td>...</td>\n",
       "      <td>12.7307</td>\n",
       "      <td>12.7307</td>\n",
       "      <td>12.7307</td>\n",
       "      <td>12.7307</td>\n",
       "      <td>4.2436</td>\n",
       "      <td>12.7307</td>\n",
       "      <td>19</td>\n",
       "      <td>1</td>\n",
       "      <td>0.1999</td>\n",
       "      <td>22NOV13</td>\n",
       "    </tr>\n",
       "    <tr>\n",
       "      <th>5</th>\n",
       "      <td>Albania</td>\n",
       "      <td>80000</td>\n",
       "      <td>ALB0006</td>\n",
       "      <td>Non-OECD</td>\n",
       "      <td>Albania</td>\n",
       "      <td>1</td>\n",
       "      <td>5</td>\n",
       "      <td>9</td>\n",
       "      <td>1.0</td>\n",
       "      <td>10</td>\n",
       "      <td>...</td>\n",
       "      <td>12.7307</td>\n",
       "      <td>12.7307</td>\n",
       "      <td>12.7307</td>\n",
       "      <td>12.7307</td>\n",
       "      <td>4.2436</td>\n",
       "      <td>12.7307</td>\n",
       "      <td>19</td>\n",
       "      <td>1</td>\n",
       "      <td>0.1999</td>\n",
       "      <td>22NOV13</td>\n",
       "    </tr>\n",
       "  </tbody>\n",
       "</table>\n",
       "<p>5 rows × 635 columns</p>\n",
       "</div>"
      ],
      "text/plain": [
       "       CNT  SUBNATIO  STRATUM      OECD       NC  SCHOOLID  STIDSTD  ST01Q01  \\\n",
       "1  Albania     80000  ALB0006  Non-OECD  Albania         1        1       10   \n",
       "2  Albania     80000  ALB0006  Non-OECD  Albania         1        2       10   \n",
       "3  Albania     80000  ALB0006  Non-OECD  Albania         1        3        9   \n",
       "4  Albania     80000  ALB0006  Non-OECD  Albania         1        4        9   \n",
       "5  Albania     80000  ALB0006  Non-OECD  Albania         1        5        9   \n",
       "\n",
       "   ST02Q01  ST03Q01  ...  W_FSTR75 W_FSTR76 W_FSTR77  W_FSTR78 W_FSTR79  \\\n",
       "1      1.0        2  ...   13.7954  13.9235  13.1249   13.1249   4.3389   \n",
       "2      1.0        2  ...   13.7954  13.9235  13.1249   13.1249   4.3389   \n",
       "3      1.0        9  ...   12.7307  12.7307  12.7307   12.7307   4.2436   \n",
       "4      1.0        8  ...   12.7307  12.7307  12.7307   12.7307   4.2436   \n",
       "5      1.0       10  ...   12.7307  12.7307  12.7307   12.7307   4.2436   \n",
       "\n",
       "  W_FSTR80 WVARSTRR VAR_UNIT SENWGT_STU  VER_STU  \n",
       "1  13.0829       19        1     0.2098  22NOV13  \n",
       "2  13.0829       19        1     0.2098  22NOV13  \n",
       "3  12.7307       19        1     0.1999  22NOV13  \n",
       "4  12.7307       19        1     0.1999  22NOV13  \n",
       "5  12.7307       19        1     0.1999  22NOV13  \n",
       "\n",
       "[5 rows x 635 columns]"
      ]
     },
     "execution_count": 3,
     "metadata": {},
     "output_type": "execute_result"
    }
   ],
   "source": [
    "df.head()"
   ]
  },
  {
   "cell_type": "code",
   "execution_count": 4,
   "metadata": {},
   "outputs": [
    {
     "name": "stdout",
     "output_type": "stream",
     "text": [
      "<class 'pandas.core.frame.DataFrame'>\n",
      "Int64Index: 485490 entries, 1 to 485490\n",
      "Columns: 635 entries, CNT to VER_STU\n",
      "dtypes: float64(250), int64(17), object(368)\n",
      "memory usage: 2.3+ GB\n"
     ]
    }
   ],
   "source": [
    "df.info()"
   ]
  },
  {
   "cell_type": "markdown",
   "metadata": {},
   "source": [
    "# Questions\n",
    "\n",
    "I want to answer these questions"
   ]
  },
  {
   "cell_type": "markdown",
   "metadata": {},
   "source": [
    "### Korea vs Finland\n",
    ">1.How much do they feel anxious about math?<br/>\n",
    ">2.How they attribute failure thier math test?<br/>\n",
    ">3.Who get the high score in math between Korea and Finland?<br>\n",
    ">4.How did math anxiety affect math test?<br/>\n"
   ]
  },
  {
   "cell_type": "markdown",
   "metadata": {},
   "source": [
    "# Data Wrangling"
   ]
  },
  {
   "cell_type": "code",
   "execution_count": 5,
   "metadata": {},
   "outputs": [],
   "source": [
    "# Copy the raw dataset before cleaning\n",
    "\n",
    "clean_df = df.copy()"
   ]
  },
  {
   "cell_type": "code",
   "execution_count": 6,
   "metadata": {},
   "outputs": [
    {
     "name": "stdout",
     "output_type": "stream",
     "text": [
      "<class 'pandas.core.frame.DataFrame'>\n",
      "Int64Index: 485490 entries, 1 to 485490\n",
      "Data columns (total 13 columns):\n",
      " #   Column   Non-Null Count   Dtype  \n",
      "---  ------   --------------   -----  \n",
      " 0   ST42Q01  313855 non-null  object \n",
      " 1   ST42Q03  312176 non-null  object \n",
      " 2   ST42Q05  312624 non-null  object \n",
      " 3   ST42Q08  312456 non-null  object \n",
      " 4   ST42Q10  312853 non-null  object \n",
      " 5   ST44Q01  314119 non-null  object \n",
      " 6   ST44Q03  313405 non-null  object \n",
      " 7   ST44Q04  312645 non-null  object \n",
      " 8   ST44Q05  312996 non-null  object \n",
      " 9   ST44Q07  312970 non-null  object \n",
      " 10  ST44Q08  313374 non-null  object \n",
      " 11  PV1MATH  485490 non-null  float64\n",
      " 12  CNT      485490 non-null  object \n",
      "dtypes: float64(1), object(12)\n",
      "memory usage: 51.9+ MB\n"
     ]
    }
   ],
   "source": [
    "# Select the some of the columns that we're going to use to answer these questions\n",
    "\n",
    "clean_df = clean_df[['ST42Q01', 'ST42Q03', 'ST42Q05', 'ST42Q08', 'ST42Q10','ST44Q01', 'ST44Q03', 'ST44Q04', 'ST44Q05', 'ST44Q07', 'ST44Q08','PV1MATH','CNT']]\n",
    "\n",
    "clean_df.info()\n"
   ]
  },
  {
   "cell_type": "code",
   "execution_count": 7,
   "metadata": {},
   "outputs": [],
   "source": [
    "# We only need Korea and Finland\n",
    "\n",
    "clean_df = clean_df[(clean_df['CNT'] == 'Korea') | (clean_df['CNT'] == 'Finland')]"
   ]
  },
  {
   "cell_type": "code",
   "execution_count": 8,
   "metadata": {},
   "outputs": [],
   "source": [
    "# Rename the column\n",
    "# Math Anxiety\n",
    "clean_df.rename(columns = {'ST42Q01' : 'MA_1', 'ST42Q03' : 'MA_2', 'ST42Q05' : 'MA_3', 'ST42Q08' : 'MA_4', 'ST42Q10' : 'MA_5'}, inplace = True)"
   ]
  },
  {
   "cell_type": "code",
   "execution_count": 9,
   "metadata": {},
   "outputs": [],
   "source": [
    "# Attribution to Failure\n",
    "clean_df.rename(columns = {'ST44Q01' : 'AF_1','ST44Q03' : 'AF_2','ST44Q04' : 'AF_3','ST44Q05': 'AF_4','ST44Q07':'AF_5','ST44Q08':'AF_6'}, inplace = True)"
   ]
  },
  {
   "cell_type": "code",
   "execution_count": 10,
   "metadata": {},
   "outputs": [],
   "source": [
    "# Math score\n",
    "clean_df.rename(columns = {'PV1MATH' : 'Score'}, inplace = True)"
   ]
  },
  {
   "cell_type": "code",
   "execution_count": 11,
   "metadata": {},
   "outputs": [],
   "source": [
    "# CNT\n",
    "clean_df.rename(columns = {'CNT' : 'Country'}, inplace = True)"
   ]
  },
  {
   "cell_type": "code",
   "execution_count": 12,
   "metadata": {},
   "outputs": [
    {
     "name": "stdout",
     "output_type": "stream",
     "text": [
      "<class 'pandas.core.frame.DataFrame'>\n",
      "Int64Index: 13862 entries, 175676 to 295893\n",
      "Data columns (total 13 columns):\n",
      " #   Column   Non-Null Count  Dtype  \n",
      "---  ------   --------------  -----  \n",
      " 0   MA_1     9033 non-null   object \n",
      " 1   MA_2     9022 non-null   object \n",
      " 2   MA_3     9019 non-null   object \n",
      " 3   MA_4     9018 non-null   object \n",
      " 4   MA_5     9022 non-null   object \n",
      " 5   AF_1     9076 non-null   object \n",
      " 6   AF_2     9066 non-null   object \n",
      " 7   AF_3     9047 non-null   object \n",
      " 8   AF_4     9054 non-null   object \n",
      " 9   AF_5     9051 non-null   object \n",
      " 10  AF_6     9067 non-null   object \n",
      " 11  Score    13862 non-null  float64\n",
      " 12  Country  13862 non-null  object \n",
      "dtypes: float64(1), object(12)\n",
      "memory usage: 1.5+ MB\n"
     ]
    }
   ],
   "source": [
    "clean_df.info()"
   ]
  },
  {
   "cell_type": "code",
   "execution_count": 13,
   "metadata": {},
   "outputs": [
    {
     "data": {
      "text/plain": [
       "array(['Agree', nan, 'Disagree', 'Strongly disagree', 'Strongly agree'],\n",
       "      dtype=object)"
      ]
     },
     "execution_count": 13,
     "metadata": {},
     "output_type": "execute_result"
    }
   ],
   "source": [
    "# nan : mean of data\n",
    "# Disagree : 0\n",
    "# Strongly disagree : 0\n",
    "# Agree : 1\n",
    "# Strongly agree : 2\n",
    "\n",
    "clean_df['MA_1'].unique()"
   ]
  },
  {
   "cell_type": "code",
   "execution_count": 14,
   "metadata": {},
   "outputs": [],
   "source": [
    "def result(x):\n",
    "    if x == 'Disagree':\n",
    "        return 0\n",
    "    elif x == 'Strong disagree':\n",
    "        return 0\n",
    "    elif x == 'Agree':\n",
    "        return 1\n",
    "    elif x == 'Strongly agree':\n",
    "        return 2\n",
    "    else : \n",
    "        pass "
   ]
  },
  {
   "cell_type": "code",
   "execution_count": 15,
   "metadata": {},
   "outputs": [],
   "source": [
    "clean_df['MA_1'] = clean_df['MA_1'].apply(result)"
   ]
  },
  {
   "cell_type": "code",
   "execution_count": 16,
   "metadata": {},
   "outputs": [
    {
     "data": {
      "text/plain": [
       "array([ 1., nan,  0.,  2.])"
      ]
     },
     "execution_count": 16,
     "metadata": {},
     "output_type": "execute_result"
    }
   ],
   "source": [
    "# handle the Nan value\n",
    "\n",
    "clean_df['MA_1'].unique()"
   ]
  },
  {
   "cell_type": "code",
   "execution_count": 17,
   "metadata": {},
   "outputs": [],
   "source": [
    "clean_df['MA_1'] = clean_df['MA_1'].fillna(clean_df['MA_1'].mean())"
   ]
  },
  {
   "cell_type": "code",
   "execution_count": 18,
   "metadata": {},
   "outputs": [
    {
     "data": {
      "text/plain": [
       "array([1.        , 0.88734455, 0.        , 2.        ])"
      ]
     },
     "execution_count": 18,
     "metadata": {},
     "output_type": "execute_result"
    }
   ],
   "source": [
    "clean_df['MA_1'].unique()"
   ]
  },
  {
   "cell_type": "code",
   "execution_count": 19,
   "metadata": {},
   "outputs": [],
   "source": [
    "# MA_2\n",
    "\n",
    "clean_df['MA_2'] = clean_df['MA_2'].apply(result)\n",
    "clean_df['MA_2'] = clean_df['MA_2'].fillna(clean_df['MA_2'].mean())"
   ]
  },
  {
   "cell_type": "code",
   "execution_count": 20,
   "metadata": {},
   "outputs": [],
   "source": [
    "# MA_3\n",
    "\n",
    "clean_df['MA_3'] = clean_df['MA_3'].apply(result)\n",
    "clean_df['MA_3'] = clean_df['MA_3'].fillna(clean_df['MA_3'].mean())"
   ]
  },
  {
   "cell_type": "code",
   "execution_count": 21,
   "metadata": {},
   "outputs": [],
   "source": [
    "# MA_4\n",
    "\n",
    "clean_df['MA_4'] = clean_df['MA_4'].apply(result)\n",
    "clean_df['MA_4'] = clean_df['MA_4'].fillna(clean_df['MA_4'].mean())"
   ]
  },
  {
   "cell_type": "code",
   "execution_count": 22,
   "metadata": {},
   "outputs": [],
   "source": [
    "# MA_5\n",
    "\n",
    "clean_df['MA_5'] = clean_df['MA_5'].apply(result)\n",
    "clean_df['MA_5'] = clean_df['MA_5'].fillna(clean_df['MA_5'].mean())"
   ]
  },
  {
   "cell_type": "code",
   "execution_count": 23,
   "metadata": {},
   "outputs": [
    {
     "name": "stdout",
     "output_type": "stream",
     "text": [
      "<class 'pandas.core.frame.DataFrame'>\n",
      "Int64Index: 13862 entries, 175676 to 295893\n",
      "Data columns (total 13 columns):\n",
      " #   Column   Non-Null Count  Dtype  \n",
      "---  ------   --------------  -----  \n",
      " 0   MA_1     13862 non-null  float64\n",
      " 1   MA_2     13862 non-null  float64\n",
      " 2   MA_3     13862 non-null  float64\n",
      " 3   MA_4     13862 non-null  float64\n",
      " 4   MA_5     13862 non-null  float64\n",
      " 5   AF_1     9076 non-null   object \n",
      " 6   AF_2     9066 non-null   object \n",
      " 7   AF_3     9047 non-null   object \n",
      " 8   AF_4     9054 non-null   object \n",
      " 9   AF_5     9051 non-null   object \n",
      " 10  AF_6     9067 non-null   object \n",
      " 11  Score    13862 non-null  float64\n",
      " 12  Country  13862 non-null  object \n",
      "dtypes: float64(6), object(7)\n",
      "memory usage: 1.5+ MB\n"
     ]
    }
   ],
   "source": [
    "clean_df.info()"
   ]
  },
  {
   "cell_type": "code",
   "execution_count": 24,
   "metadata": {},
   "outputs": [],
   "source": [
    "# Creat the new column : 'Anxiety'\n",
    "\n",
    "clean_df['Anxiety'] = clean_df['MA_1'] + clean_df['MA_2'] + clean_df['MA_3'] + clean_df['MA_4'] + clean_df['MA_5']"
   ]
  },
  {
   "cell_type": "code",
   "execution_count": 25,
   "metadata": {},
   "outputs": [
    {
     "data": {
      "text/plain": [
       "array(['Likely', nan, 'Slightly likely', 'Very   Likely',\n",
       "       'Not at all likely'], dtype=object)"
      ]
     },
     "execution_count": 25,
     "metadata": {},
     "output_type": "execute_result"
    }
   ],
   "source": [
    "# AF_1\n",
    "\n",
    "# Not at all likely : 0\n",
    "# Slightly likely : 1\n",
    "# Likely : 2\n",
    "# Very Likely : 3\n",
    "\n",
    "clean_df['AF_1'].unique()"
   ]
  },
  {
   "cell_type": "code",
   "execution_count": 26,
   "metadata": {},
   "outputs": [],
   "source": [
    "def result(x):\n",
    "    if x == 'Not at all likely':\n",
    "        return 0\n",
    "    elif x == 'Slightly likely':\n",
    "        return 1\n",
    "    elif x == 'Likely':\n",
    "        return 2\n",
    "    elif x == 'Very Likely':\n",
    "        return 3\n",
    "    else : \n",
    "        pass "
   ]
  },
  {
   "cell_type": "code",
   "execution_count": 27,
   "metadata": {},
   "outputs": [],
   "source": [
    "clean_df['AF_1'] = clean_df['AF_1'].apply(result)"
   ]
  },
  {
   "cell_type": "code",
   "execution_count": 28,
   "metadata": {},
   "outputs": [
    {
     "data": {
      "text/plain": [
       "array([ 2., nan,  1.,  0.])"
      ]
     },
     "execution_count": 28,
     "metadata": {},
     "output_type": "execute_result"
    }
   ],
   "source": [
    "clean_df['AF_1'].unique()"
   ]
  },
  {
   "cell_type": "code",
   "execution_count": 29,
   "metadata": {},
   "outputs": [],
   "source": [
    "clean_df['AF_1'] = clean_df['AF_1'].fillna(clean_df['AF_1'].mean())"
   ]
  },
  {
   "cell_type": "code",
   "execution_count": 30,
   "metadata": {},
   "outputs": [
    {
     "name": "stdout",
     "output_type": "stream",
     "text": [
      "<class 'pandas.core.frame.DataFrame'>\n",
      "Int64Index: 13862 entries, 175676 to 295893\n",
      "Data columns (total 14 columns):\n",
      " #   Column   Non-Null Count  Dtype  \n",
      "---  ------   --------------  -----  \n",
      " 0   MA_1     13862 non-null  float64\n",
      " 1   MA_2     13862 non-null  float64\n",
      " 2   MA_3     13862 non-null  float64\n",
      " 3   MA_4     13862 non-null  float64\n",
      " 4   MA_5     13862 non-null  float64\n",
      " 5   AF_1     13862 non-null  float64\n",
      " 6   AF_2     9066 non-null   object \n",
      " 7   AF_3     9047 non-null   object \n",
      " 8   AF_4     9054 non-null   object \n",
      " 9   AF_5     9051 non-null   object \n",
      " 10  AF_6     9067 non-null   object \n",
      " 11  Score    13862 non-null  float64\n",
      " 12  Country  13862 non-null  object \n",
      " 13  Anxiety  13862 non-null  float64\n",
      "dtypes: float64(8), object(6)\n",
      "memory usage: 1.6+ MB\n"
     ]
    }
   ],
   "source": [
    "clean_df.info()"
   ]
  },
  {
   "cell_type": "code",
   "execution_count": 31,
   "metadata": {},
   "outputs": [],
   "source": [
    "# AF_2\n",
    "\n",
    "clean_df['AF_2'] = clean_df['AF_2'].apply(result)\n",
    "clean_df['AF_2'] = clean_df['AF_2'].fillna(clean_df['AF_2'].mean())"
   ]
  },
  {
   "cell_type": "code",
   "execution_count": 32,
   "metadata": {},
   "outputs": [],
   "source": [
    "# AF_3\n",
    "\n",
    "clean_df['AF_3'] = clean_df['AF_3'].apply(result)\n",
    "clean_df['AF_3'] = clean_df['AF_3'].fillna(clean_df['AF_3'].mean())"
   ]
  },
  {
   "cell_type": "code",
   "execution_count": 33,
   "metadata": {},
   "outputs": [],
   "source": [
    "# AF_4\n",
    "\n",
    "clean_df['AF_4'] = clean_df['AF_4'].apply(result)\n",
    "clean_df['AF_4'] = clean_df['AF_4'].fillna(clean_df['AF_4'].mean())"
   ]
  },
  {
   "cell_type": "code",
   "execution_count": 34,
   "metadata": {},
   "outputs": [],
   "source": [
    "# AF_5\n",
    "\n",
    "clean_df['AF_5'] = clean_df['AF_5'].apply(result)\n",
    "clean_df['AF_5'] = clean_df['AF_5'].fillna(clean_df['AF_5'].mean())"
   ]
  },
  {
   "cell_type": "code",
   "execution_count": 35,
   "metadata": {},
   "outputs": [],
   "source": [
    "# AF_6\n",
    "\n",
    "clean_df['AF_6'] = clean_df['AF_6'].apply(result)\n",
    "clean_df['AF_6'] = clean_df['AF_6'].fillna(clean_df['AF_6'].mean())"
   ]
  },
  {
   "cell_type": "markdown",
   "metadata": {},
   "source": [
    "## Final dataframe"
   ]
  },
  {
   "cell_type": "code",
   "execution_count": 36,
   "metadata": {},
   "outputs": [
    {
     "data": {
      "text/html": [
       "<div>\n",
       "<style scoped>\n",
       "    .dataframe tbody tr th:only-of-type {\n",
       "        vertical-align: middle;\n",
       "    }\n",
       "\n",
       "    .dataframe tbody tr th {\n",
       "        vertical-align: top;\n",
       "    }\n",
       "\n",
       "    .dataframe thead th {\n",
       "        text-align: right;\n",
       "    }\n",
       "</style>\n",
       "<table border=\"1\" class=\"dataframe\">\n",
       "  <thead>\n",
       "    <tr style=\"text-align: right;\">\n",
       "      <th></th>\n",
       "      <th>MA_1</th>\n",
       "      <th>MA_2</th>\n",
       "      <th>MA_3</th>\n",
       "      <th>MA_4</th>\n",
       "      <th>MA_5</th>\n",
       "      <th>AF_1</th>\n",
       "      <th>AF_2</th>\n",
       "      <th>AF_3</th>\n",
       "      <th>AF_4</th>\n",
       "      <th>AF_5</th>\n",
       "      <th>AF_6</th>\n",
       "      <th>Score</th>\n",
       "      <th>Country</th>\n",
       "      <th>Anxiety</th>\n",
       "    </tr>\n",
       "  </thead>\n",
       "  <tbody>\n",
       "    <tr>\n",
       "      <th>295365</th>\n",
       "      <td>1.000000</td>\n",
       "      <td>1.00000</td>\n",
       "      <td>1.000000</td>\n",
       "      <td>1.0000</td>\n",
       "      <td>2.000000</td>\n",
       "      <td>2.00000</td>\n",
       "      <td>0.000000</td>\n",
       "      <td>2.000000</td>\n",
       "      <td>1.454558</td>\n",
       "      <td>0.000000</td>\n",
       "      <td>2.000000</td>\n",
       "      <td>542.3041</td>\n",
       "      <td>Korea</td>\n",
       "      <td>6.000000</td>\n",
       "    </tr>\n",
       "    <tr>\n",
       "      <th>179877</th>\n",
       "      <td>2.000000</td>\n",
       "      <td>0.00000</td>\n",
       "      <td>0.000000</td>\n",
       "      <td>1.0000</td>\n",
       "      <td>2.000000</td>\n",
       "      <td>1.32181</td>\n",
       "      <td>1.089151</td>\n",
       "      <td>1.036564</td>\n",
       "      <td>1.454558</td>\n",
       "      <td>1.254141</td>\n",
       "      <td>1.099649</td>\n",
       "      <td>340.6372</td>\n",
       "      <td>Finland</td>\n",
       "      <td>5.000000</td>\n",
       "    </tr>\n",
       "    <tr>\n",
       "      <th>293462</th>\n",
       "      <td>0.887345</td>\n",
       "      <td>0.37226</td>\n",
       "      <td>0.460913</td>\n",
       "      <td>0.5368</td>\n",
       "      <td>1.009916</td>\n",
       "      <td>0.00000</td>\n",
       "      <td>0.000000</td>\n",
       "      <td>1.000000</td>\n",
       "      <td>0.000000</td>\n",
       "      <td>1.000000</td>\n",
       "      <td>1.000000</td>\n",
       "      <td>575.9542</td>\n",
       "      <td>Korea</td>\n",
       "      <td>3.267234</td>\n",
       "    </tr>\n",
       "    <tr>\n",
       "      <th>184167</th>\n",
       "      <td>0.000000</td>\n",
       "      <td>0.37226</td>\n",
       "      <td>0.460913</td>\n",
       "      <td>0.5368</td>\n",
       "      <td>0.000000</td>\n",
       "      <td>1.32181</td>\n",
       "      <td>1.089151</td>\n",
       "      <td>1.036564</td>\n",
       "      <td>1.454558</td>\n",
       "      <td>1.254141</td>\n",
       "      <td>1.099649</td>\n",
       "      <td>499.7741</td>\n",
       "      <td>Finland</td>\n",
       "      <td>1.369974</td>\n",
       "    </tr>\n",
       "    <tr>\n",
       "      <th>178146</th>\n",
       "      <td>0.887345</td>\n",
       "      <td>0.37226</td>\n",
       "      <td>0.460913</td>\n",
       "      <td>0.5368</td>\n",
       "      <td>1.009916</td>\n",
       "      <td>1.32181</td>\n",
       "      <td>1.089151</td>\n",
       "      <td>1.036564</td>\n",
       "      <td>1.454558</td>\n",
       "      <td>1.254141</td>\n",
       "      <td>1.099649</td>\n",
       "      <td>307.3765</td>\n",
       "      <td>Finland</td>\n",
       "      <td>3.267234</td>\n",
       "    </tr>\n",
       "  </tbody>\n",
       "</table>\n",
       "</div>"
      ],
      "text/plain": [
       "            MA_1     MA_2      MA_3    MA_4      MA_5     AF_1      AF_2  \\\n",
       "295365  1.000000  1.00000  1.000000  1.0000  2.000000  2.00000  0.000000   \n",
       "179877  2.000000  0.00000  0.000000  1.0000  2.000000  1.32181  1.089151   \n",
       "293462  0.887345  0.37226  0.460913  0.5368  1.009916  0.00000  0.000000   \n",
       "184167  0.000000  0.37226  0.460913  0.5368  0.000000  1.32181  1.089151   \n",
       "178146  0.887345  0.37226  0.460913  0.5368  1.009916  1.32181  1.089151   \n",
       "\n",
       "            AF_3      AF_4      AF_5      AF_6     Score  Country   Anxiety  \n",
       "295365  2.000000  1.454558  0.000000  2.000000  542.3041    Korea  6.000000  \n",
       "179877  1.036564  1.454558  1.254141  1.099649  340.6372  Finland  5.000000  \n",
       "293462  1.000000  0.000000  1.000000  1.000000  575.9542    Korea  3.267234  \n",
       "184167  1.036564  1.454558  1.254141  1.099649  499.7741  Finland  1.369974  \n",
       "178146  1.036564  1.454558  1.254141  1.099649  307.3765  Finland  3.267234  "
      ]
     },
     "execution_count": 36,
     "metadata": {},
     "output_type": "execute_result"
    }
   ],
   "source": [
    "clean_df.sample(5)"
   ]
  },
  {
   "cell_type": "markdown",
   "metadata": {},
   "source": [
    "### Math Anxiety\n",
    "MA_1 : Worry that math will be difficult<br/>\n",
    "MA_2 : Get very Tense<br/>\n",
    "MA_3 : Get very Nervous<br/>\n",
    "MA_4 : Feel Helpless<br/>\n",
    "MA_5 : Worry about getting poor grades\n",
    "### Attributions to Failure\n",
    "AF_1 : I'm not good at math<br/>\n",
    "AF_2 : Teacher did not explain well<br/>\n",
    "AF_3 : Bad guesses<br/>\n",
    "AF_4 : Material Too Hard<br/>\n",
    "AF_5 : Teacher didn't get students Interested<br/>\n",
    "AF_6 : Unlucky"
   ]
  },
  {
   "cell_type": "markdown",
   "metadata": {},
   "source": [
    "## Univariate Exploration"
   ]
  },
  {
   "cell_type": "code",
   "execution_count": 37,
   "metadata": {},
   "outputs": [],
   "source": [
    "# Math Anxiety\n",
    "\n",
    "MA_1_mean = clean_df.MA_1.mean()\n",
    "MA_2_mean = clean_df.MA_2.mean()\n",
    "MA_3_mean = clean_df.MA_3.mean()\n",
    "MA_4_mean = clean_df.MA_4.mean()\n",
    "MA_5_mean = clean_df.MA_5.mean()"
   ]
  },
  {
   "cell_type": "code",
   "execution_count": 38,
   "metadata": {},
   "outputs": [],
   "source": [
    "data = {'Anxiety' : ['type1','type2','type3','type4','type5'], 'mean' : [MA_1_mean, MA_2_mean, MA_3_mean, MA_4_mean, MA_5_mean]}"
   ]
  },
  {
   "cell_type": "code",
   "execution_count": 39,
   "metadata": {},
   "outputs": [
    {
     "data": {
      "text/html": [
       "<div>\n",
       "<style scoped>\n",
       "    .dataframe tbody tr th:only-of-type {\n",
       "        vertical-align: middle;\n",
       "    }\n",
       "\n",
       "    .dataframe tbody tr th {\n",
       "        vertical-align: top;\n",
       "    }\n",
       "\n",
       "    .dataframe thead th {\n",
       "        text-align: right;\n",
       "    }\n",
       "</style>\n",
       "<table border=\"1\" class=\"dataframe\">\n",
       "  <thead>\n",
       "    <tr style=\"text-align: right;\">\n",
       "      <th></th>\n",
       "      <th>mean</th>\n",
       "    </tr>\n",
       "  </thead>\n",
       "  <tbody>\n",
       "    <tr>\n",
       "      <th>MA_1</th>\n",
       "      <td>0.887345</td>\n",
       "    </tr>\n",
       "    <tr>\n",
       "      <th>MA_2</th>\n",
       "      <td>0.372260</td>\n",
       "    </tr>\n",
       "    <tr>\n",
       "      <th>MA_3</th>\n",
       "      <td>0.460913</td>\n",
       "    </tr>\n",
       "    <tr>\n",
       "      <th>MA_4</th>\n",
       "      <td>0.536800</td>\n",
       "    </tr>\n",
       "    <tr>\n",
       "      <th>MA_5</th>\n",
       "      <td>1.009916</td>\n",
       "    </tr>\n",
       "  </tbody>\n",
       "</table>\n",
       "</div>"
      ],
      "text/plain": [
       "          mean\n",
       "MA_1  0.887345\n",
       "MA_2  0.372260\n",
       "MA_3  0.460913\n",
       "MA_4  0.536800\n",
       "MA_5  1.009916"
      ]
     },
     "execution_count": 39,
     "metadata": {},
     "output_type": "execute_result"
    }
   ],
   "source": [
    "df_1 = pd.DataFrame(data, columns = ['mean'], index = ['MA_1','MA_2','MA_3','MA_4','MA_5'])\n",
    "df_1"
   ]
  },
  {
   "cell_type": "code",
   "execution_count": 40,
   "metadata": {},
   "outputs": [
    {
     "data": {
      "text/plain": [
       "<matplotlib.axes._subplots.AxesSubplot at 0x7fad5d776e50>"
      ]
     },
     "execution_count": 40,
     "metadata": {},
     "output_type": "execute_result"
    },
    {
     "data": {
      "image/png": "[encoded data removed]",
      "text/plain": [
       "<Figure size 432x288 with 1 Axes>"
      ]
     },
     "metadata": {
      "needs_background": "light"
     },
     "output_type": "display_data"
    }
   ],
   "source": [
    "df_1.plot(kind = 'bar')"
   ]
  },
  {
   "cell_type": "markdown",
   "metadata": {},
   "source": [
    "According to this barplot, most of student feel worry about their poor math grade(MA_5)"
   ]
  },
  {
   "cell_type": "code",
   "execution_count": 41,
   "metadata": {},
   "outputs": [],
   "source": [
    "# Attributions to Failure\n",
    "\n",
    "AF_1_mean = clean_df['AF_1'].mean()\n",
    "AF_2_mean = clean_df['AF_2'].mean()\n",
    "AF_3_mean = clean_df['AF_3'].mean()\n",
    "AF_4_mean = clean_df['AF_4'].mean()\n",
    "AF_5_mean = clean_df['AF_5'].mean()\n",
    "AF_6_mean = clean_df['AF_6'].mean()"
   ]
  },
  {
   "cell_type": "code",
   "execution_count": 42,
   "metadata": {},
   "outputs": [],
   "source": [
    "data_2 = {'Attribution' : ['type1','type2','type3','type4','type5','type6'], 'mean' : [AF_1_mean, AF_2_mean, AF_3_mean, AF_4_mean, AF_5_mean, AF_6_mean]}"
   ]
  },
  {
   "cell_type": "code",
   "execution_count": 43,
   "metadata": {},
   "outputs": [],
   "source": [
    "df_2 = pd.DataFrame(data_2, columns = ['mean'], index = ['AF_1','AF_2','AF_3','AF_4','AF_5','AF_6'])"
   ]
  },
  {
   "cell_type": "code",
   "execution_count": 44,
   "metadata": {},
   "outputs": [
    {
     "data": {
      "text/plain": [
       "<matplotlib.axes._subplots.AxesSubplot at 0x7fad5d9b98b0>"
      ]
     },
     "execution_count": 44,
     "metadata": {},
     "output_type": "execute_result"
    },
    {
     "data": {
      "image/png": "[encoded data removed]",
      "text/plain": [
       "<Figure size 432x288 with 1 Axes>"
      ]
     },
     "metadata": {
      "needs_background": "light"
     },
     "output_type": "display_data"
    }
   ],
   "source": [
    "df_2.plot(kind = 'bar')"
   ]
  },
  {
   "cell_type": "markdown",
   "metadata": {},
   "source": [
    "Most student think the math material is hard and they think they don't good at math"
   ]
  },
  {
   "cell_type": "code",
   "execution_count": 45,
   "metadata": {},
   "outputs": [
    {
     "data": {
      "text/plain": [
       "524.4825157697304"
      ]
     },
     "execution_count": 45,
     "metadata": {},
     "output_type": "execute_result"
    }
   ],
   "source": [
    "# distribution of math score\n",
    "\n",
    "clean_df['Score'].mean()"
   ]
  },
  {
   "cell_type": "code",
   "execution_count": 46,
   "metadata": {},
   "outputs": [
    {
     "data": {
      "text/plain": [
       "(array([4.000e+00, 5.800e+01, 4.260e+02, 1.597e+03, 3.558e+03, 4.245e+03,\n",
       "        2.848e+03, 9.920e+02, 1.250e+02, 9.000e+00]),\n",
       " array([113.1095 , 190.93315, 268.7568 , 346.58045, 424.4041 , 502.22775,\n",
       "        580.0514 , 657.87505, 735.6987 , 813.52235, 891.346  ]),\n",
       " <a list of 10 Patch objects>)"
      ]
     },
     "execution_count": 46,
     "metadata": {},
     "output_type": "execute_result"
    },
    {
     "data": {
      "image/png": "[encoded data removed]",
      "text/plain": [
       "<Figure size 432x288 with 1 Axes>"
      ]
     },
     "metadata": {
      "needs_background": "light"
     },
     "output_type": "display_data"
    }
   ],
   "source": [
    "plt.hist(clean_df['Score'])"
   ]
  },
  {
   "cell_type": "markdown",
   "metadata": {},
   "source": [
    "The math score seem to be normally distributed"
   ]
  },
  {
   "cell_type": "markdown",
   "metadata": {},
   "source": [
    "## Bivariate Exploration\n",
    "\n",
    "> In this section, investigate relationships between pairs of variables in your\n",
    "data. Make sure the variables that you cover here have been introduced in some\n",
    "fashion in the previous section (univariate exploration)."
   ]
  },
  {
   "cell_type": "code",
   "execution_count": null,
   "metadata": {},
   "outputs": [],
   "source": []
  },
  {
   "cell_type": "markdown",
   "metadata": {},
   "source": [
    "### Talk about some of the relationships you observed in this part of the investigation. How did the feature(s) of interest vary with other features in the dataset?\n",
    "\n",
    "> Your answer here!\n",
    "\n",
    "### Did you observe any interesting relationships between the other features (not the main feature(s) of interest)?\n",
    "\n",
    "> Your answer here!"
   ]
  },
  {
   "cell_type": "markdown",
   "metadata": {},
   "source": [
    "## Multivariate Exploration\n",
    "\n",
    "> Create plots of three or more variables to investigate your data even\n",
    "further. Make sure that your investigations are justified, and follow from\n",
    "your work in the previous sections."
   ]
  },
  {
   "cell_type": "code",
   "execution_count": null,
   "metadata": {},
   "outputs": [],
   "source": []
  },
  {
   "cell_type": "markdown",
   "metadata": {},
   "source": [
    "### Talk about some of the relationships you observed in this part of the investigation. Were there features that strengthened each other in terms of looking at your feature(s) of interest?\n",
    "\n",
    "> Your answer here!\n",
    "\n",
    "### Were there any interesting or surprising interactions between features?\n",
    "\n",
    "> Your answer here!"
   ]
  },
  {
   "cell_type": "markdown",
   "metadata": {},
   "source": [
    "> At the end of your report, make sure that you export the notebook as an\n",
    "html file from the `File > Download as... > HTML` menu. Make sure you keep\n",
    "track of where the exported file goes, so you can put it in the same folder\n",
    "as this notebook for project submission. Also, make sure you remove all of\n",
    "the quote-formatted guide notes like this one before you finish your report!"
   ]
  },
  {
   "cell_type": "code",
   "execution_count": null,
   "metadata": {},
   "outputs": [],
   "source": []
  }
 ],
 "metadata": {
  "kernelspec": {
   "display_name": "Python 3",
   "language": "python",
   "name": "python3"
  },
  "language_info": {
   "codemirror_mode": {
    "name": "ipython",
    "version": 3
   },
   "file_extension": ".py",
   "mimetype": "text/x-python",
   "name": "python",
   "nbconvert_exporter": "python",
   "pygments_lexer": "ipython3",
   "version": "3.8.3"
  }
 },
 "nbformat": 4,
 "nbformat_minor": 2
}
