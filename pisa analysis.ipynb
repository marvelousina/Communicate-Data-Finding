{
 "cells": [
  {
   "cell_type": "markdown",
   "metadata": {},
   "source": [
    "# PISA Data analysis"
   ]
  },
  {
   "cell_type": "markdown",
   "metadata": {},
   "source": [
    "## by In-A Park"
   ]
  },
  {
   "cell_type": "markdown",
   "metadata": {},
   "source": [
    "## Preliminary Wrangling"
   ]
  },
  {
   "cell_type": "code",
   "execution_count": 1,
   "metadata": {},
   "outputs": [],
   "source": [
    "# Import Dataset\n",
    "\n",
    "import numpy as np\n",
    "import pandas as pd\n",
    "import matplotlib.pyplot as plt\n",
    "import seaborn as sb\n",
    "\n",
    "%matplotlib inline"
   ]
  },
  {
   "cell_type": "code",
   "execution_count": 74,
   "metadata": {},
   "outputs": [],
   "source": [
    "file = 'pisa2012.csv'\n",
    "df = pd.read_csv(file, encoding='ISO-8859-1', low_memory=False, index_col=0)"
   ]
  },
  {
   "cell_type": "code",
   "execution_count": 75,
   "metadata": {},
   "outputs": [
    {
     "data": {
      "text/html": [
       "<div>\n",
       "<style scoped>\n",
       "    .dataframe tbody tr th:only-of-type {\n",
       "        vertical-align: middle;\n",
       "    }\n",
       "\n",
       "    .dataframe tbody tr th {\n",
       "        vertical-align: top;\n",
       "    }\n",
       "\n",
       "    .dataframe thead th {\n",
       "        text-align: right;\n",
       "    }\n",
       "</style>\n",
       "<table border=\"1\" class=\"dataframe\">\n",
       "  <thead>\n",
       "    <tr style=\"text-align: right;\">\n",
       "      <th></th>\n",
       "      <th>CNT</th>\n",
       "      <th>SUBNATIO</th>\n",
       "      <th>STRATUM</th>\n",
       "      <th>OECD</th>\n",
       "      <th>NC</th>\n",
       "      <th>SCHOOLID</th>\n",
       "      <th>STIDSTD</th>\n",
       "      <th>ST01Q01</th>\n",
       "      <th>ST02Q01</th>\n",
       "      <th>ST03Q01</th>\n",
       "      <th>...</th>\n",
       "      <th>W_FSTR75</th>\n",
       "      <th>W_FSTR76</th>\n",
       "      <th>W_FSTR77</th>\n",
       "      <th>W_FSTR78</th>\n",
       "      <th>W_FSTR79</th>\n",
       "      <th>W_FSTR80</th>\n",
       "      <th>WVARSTRR</th>\n",
       "      <th>VAR_UNIT</th>\n",
       "      <th>SENWGT_STU</th>\n",
       "      <th>VER_STU</th>\n",
       "    </tr>\n",
       "  </thead>\n",
       "  <tbody>\n",
       "    <tr>\n",
       "      <th>1</th>\n",
       "      <td>Albania</td>\n",
       "      <td>80000</td>\n",
       "      <td>ALB0006</td>\n",
       "      <td>Non-OECD</td>\n",
       "      <td>Albania</td>\n",
       "      <td>1</td>\n",
       "      <td>1</td>\n",
       "      <td>10</td>\n",
       "      <td>1.0</td>\n",
       "      <td>2</td>\n",
       "      <td>...</td>\n",
       "      <td>13.7954</td>\n",
       "      <td>13.9235</td>\n",
       "      <td>13.1249</td>\n",
       "      <td>13.1249</td>\n",
       "      <td>4.3389</td>\n",
       "      <td>13.0829</td>\n",
       "      <td>19</td>\n",
       "      <td>1</td>\n",
       "      <td>0.2098</td>\n",
       "      <td>22NOV13</td>\n",
       "    </tr>\n",
       "    <tr>\n",
       "      <th>2</th>\n",
       "      <td>Albania</td>\n",
       "      <td>80000</td>\n",
       "      <td>ALB0006</td>\n",
       "      <td>Non-OECD</td>\n",
       "      <td>Albania</td>\n",
       "      <td>1</td>\n",
       "      <td>2</td>\n",
       "      <td>10</td>\n",
       "      <td>1.0</td>\n",
       "      <td>2</td>\n",
       "      <td>...</td>\n",
       "      <td>13.7954</td>\n",
       "      <td>13.9235</td>\n",
       "      <td>13.1249</td>\n",
       "      <td>13.1249</td>\n",
       "      <td>4.3389</td>\n",
       "      <td>13.0829</td>\n",
       "      <td>19</td>\n",
       "      <td>1</td>\n",
       "      <td>0.2098</td>\n",
       "      <td>22NOV13</td>\n",
       "    </tr>\n",
       "    <tr>\n",
       "      <th>3</th>\n",
       "      <td>Albania</td>\n",
       "      <td>80000</td>\n",
       "      <td>ALB0006</td>\n",
       "      <td>Non-OECD</td>\n",
       "      <td>Albania</td>\n",
       "      <td>1</td>\n",
       "      <td>3</td>\n",
       "      <td>9</td>\n",
       "      <td>1.0</td>\n",
       "      <td>9</td>\n",
       "      <td>...</td>\n",
       "      <td>12.7307</td>\n",
       "      <td>12.7307</td>\n",
       "      <td>12.7307</td>\n",
       "      <td>12.7307</td>\n",
       "      <td>4.2436</td>\n",
       "      <td>12.7307</td>\n",
       "      <td>19</td>\n",
       "      <td>1</td>\n",
       "      <td>0.1999</td>\n",
       "      <td>22NOV13</td>\n",
       "    </tr>\n",
       "    <tr>\n",
       "      <th>4</th>\n",
       "      <td>Albania</td>\n",
       "      <td>80000</td>\n",
       "      <td>ALB0006</td>\n",
       "      <td>Non-OECD</td>\n",
       "      <td>Albania</td>\n",
       "      <td>1</td>\n",
       "      <td>4</td>\n",
       "      <td>9</td>\n",
       "      <td>1.0</td>\n",
       "      <td>8</td>\n",
       "      <td>...</td>\n",
       "      <td>12.7307</td>\n",
       "      <td>12.7307</td>\n",
       "      <td>12.7307</td>\n",
       "      <td>12.7307</td>\n",
       "      <td>4.2436</td>\n",
       "      <td>12.7307</td>\n",
       "      <td>19</td>\n",
       "      <td>1</td>\n",
       "      <td>0.1999</td>\n",
       "      <td>22NOV13</td>\n",
       "    </tr>\n",
       "    <tr>\n",
       "      <th>5</th>\n",
       "      <td>Albania</td>\n",
       "      <td>80000</td>\n",
       "      <td>ALB0006</td>\n",
       "      <td>Non-OECD</td>\n",
       "      <td>Albania</td>\n",
       "      <td>1</td>\n",
       "      <td>5</td>\n",
       "      <td>9</td>\n",
       "      <td>1.0</td>\n",
       "      <td>10</td>\n",
       "      <td>...</td>\n",
       "      <td>12.7307</td>\n",
       "      <td>12.7307</td>\n",
       "      <td>12.7307</td>\n",
       "      <td>12.7307</td>\n",
       "      <td>4.2436</td>\n",
       "      <td>12.7307</td>\n",
       "      <td>19</td>\n",
       "      <td>1</td>\n",
       "      <td>0.1999</td>\n",
       "      <td>22NOV13</td>\n",
       "    </tr>\n",
       "  </tbody>\n",
       "</table>\n",
       "<p>5 rows × 635 columns</p>\n",
       "</div>"
      ],
      "text/plain": [
       "       CNT  SUBNATIO  STRATUM      OECD       NC  SCHOOLID  STIDSTD  ST01Q01  \\\n",
       "1  Albania     80000  ALB0006  Non-OECD  Albania         1        1       10   \n",
       "2  Albania     80000  ALB0006  Non-OECD  Albania         1        2       10   \n",
       "3  Albania     80000  ALB0006  Non-OECD  Albania         1        3        9   \n",
       "4  Albania     80000  ALB0006  Non-OECD  Albania         1        4        9   \n",
       "5  Albania     80000  ALB0006  Non-OECD  Albania         1        5        9   \n",
       "\n",
       "   ST02Q01  ST03Q01  ...  W_FSTR75 W_FSTR76 W_FSTR77  W_FSTR78 W_FSTR79  \\\n",
       "1      1.0        2  ...   13.7954  13.9235  13.1249   13.1249   4.3389   \n",
       "2      1.0        2  ...   13.7954  13.9235  13.1249   13.1249   4.3389   \n",
       "3      1.0        9  ...   12.7307  12.7307  12.7307   12.7307   4.2436   \n",
       "4      1.0        8  ...   12.7307  12.7307  12.7307   12.7307   4.2436   \n",
       "5      1.0       10  ...   12.7307  12.7307  12.7307   12.7307   4.2436   \n",
       "\n",
       "  W_FSTR80 WVARSTRR VAR_UNIT SENWGT_STU  VER_STU  \n",
       "1  13.0829       19        1     0.2098  22NOV13  \n",
       "2  13.0829       19        1     0.2098  22NOV13  \n",
       "3  12.7307       19        1     0.1999  22NOV13  \n",
       "4  12.7307       19        1     0.1999  22NOV13  \n",
       "5  12.7307       19        1     0.1999  22NOV13  \n",
       "\n",
       "[5 rows x 635 columns]"
      ]
     },
     "execution_count": 75,
     "metadata": {},
     "output_type": "execute_result"
    }
   ],
   "source": [
    "df.head()"
   ]
  },
  {
   "cell_type": "code",
   "execution_count": 77,
   "metadata": {},
   "outputs": [
    {
     "name": "stdout",
     "output_type": "stream",
     "text": [
      "<class 'pandas.core.frame.DataFrame'>\n",
      "Int64Index: 485490 entries, 1 to 485490\n",
      "Columns: 635 entries, CNT to VER_STU\n",
      "dtypes: float64(250), int64(17), object(368)\n",
      "memory usage: 2.3+ GB\n"
     ]
    }
   ],
   "source": [
    "df.info()"
   ]
  },
  {
   "cell_type": "markdown",
   "metadata": {},
   "source": [
    "# Questions\n",
    "\n",
    "In this process, I'd like to answer to following these questions<br/>\n",
    "\n",
    ">Korea VS Finland<br/>\n",
    "1.What type of math anxiety do they feel the most?<br/>\n",
    "2.How did they attribute to failure in math test?<br/>\n",
    "3.Which country get the high math score?<br/>\n",
    "4.How did math anxiety affect math test?\n"
   ]
  },
  {
   "cell_type": "markdown",
   "metadata": {},
   "source": [
    "# Data Wrangling"
   ]
  },
  {
   "cell_type": "code",
   "execution_count": 81,
   "metadata": {},
   "outputs": [],
   "source": [
    "# Copy the original dataset before wrangling\n",
    "\n",
    "clean_df = df.copy()"
   ]
  },
  {
   "cell_type": "markdown",
   "metadata": {},
   "source": [
    "### column information"
   ]
  },
  {
   "cell_type": "markdown",
   "metadata": {},
   "source": [
    "Math Anxiety : `ST42Q01`, `ST42Q03`, `ST42Q05`, `ST42Q08`, `ST42Q10`<br/>\n",
    "Attributions : `ST44Q01`, `ST44Q03`, `ST44Q04`, `ST44Q05`, `ST44Q07`, `STQ4408`<br/>\n",
    "Math Score : `PV1MATH`<br/>\n",
    "Country : `CNT`"
   ]
  },
  {
   "cell_type": "code",
   "execution_count": 82,
   "metadata": {},
   "outputs": [],
   "source": [
    "# Select the some of the columns that we need\n",
    "\n",
    "clean_df = clean_df[['ST42Q01', 'ST42Q03', 'ST42Q05', 'ST42Q08', 'ST42Q10',\n",
    "    'ST44Q01', 'ST44Q03', 'ST44Q04', 'ST44Q05', 'ST44Q07', 'ST44Q08',\n",
    "    'PV1MATH','CNT']]"
   ]
  },
  {
   "cell_type": "code",
   "execution_count": 83,
   "metadata": {},
   "outputs": [
    {
     "name": "stdout",
     "output_type": "stream",
     "text": [
      "<class 'pandas.core.frame.DataFrame'>\n",
      "Int64Index: 485490 entries, 1 to 485490\n",
      "Data columns (total 13 columns):\n",
      " #   Column   Non-Null Count   Dtype  \n",
      "---  ------   --------------   -----  \n",
      " 0   ST42Q01  313855 non-null  object \n",
      " 1   ST42Q03  312176 non-null  object \n",
      " 2   ST42Q05  312624 non-null  object \n",
      " 3   ST42Q08  312456 non-null  object \n",
      " 4   ST42Q10  312853 non-null  object \n",
      " 5   ST44Q01  314119 non-null  object \n",
      " 6   ST44Q03  313405 non-null  object \n",
      " 7   ST44Q04  312645 non-null  object \n",
      " 8   ST44Q05  312996 non-null  object \n",
      " 9   ST44Q07  312970 non-null  object \n",
      " 10  ST44Q08  313374 non-null  object \n",
      " 11  PV1MATH  485490 non-null  float64\n",
      " 12  CNT      485490 non-null  object \n",
      "dtypes: float64(1), object(12)\n",
      "memory usage: 51.9+ MB\n"
     ]
    }
   ],
   "source": [
    "clean_df.info()"
   ]
  },
  {
   "cell_type": "code",
   "execution_count": 84,
   "metadata": {},
   "outputs": [],
   "source": [
    "# Select the 'korea' and 'Finland' in CNT column\n",
    "\n",
    "clean_df = clean_df[(clean_df['CNT'] == 'Korea') | (clean_df['CNT'] == 'Finland')]"
   ]
  },
  {
   "cell_type": "code",
   "execution_count": 85,
   "metadata": {},
   "outputs": [],
   "source": [
    "# Rename the column name : MA_1 ~ MA_5(Math Anxiety)\n",
    "\n",
    "clean_df.rename(columns = {'ST42Q01' : 'MA_1', 'ST42Q03' : 'MA_2', 'ST42Q05' : 'MA_3',\n",
    "                           'ST42Q08' : 'MA_4', 'ST42Q10' : 'MA_5'}, inplace = True)"
   ]
  },
  {
   "cell_type": "code",
   "execution_count": 86,
   "metadata": {},
   "outputs": [],
   "source": [
    "# Rename the column name : AF_1 ~ AF_5(Attribution to Failure)\n",
    "\n",
    "clean_df.rename(columns = {'ST44Q01' : 'AF_1','ST44Q03' : 'AF_2','ST44Q04' : 'AF_3',\n",
    "                           'ST44Q05': 'AF_4','ST44Q07':'AF_5','ST44Q08':'AF_6'}, inplace = True)"
   ]
  },
  {
   "cell_type": "code",
   "execution_count": 87,
   "metadata": {},
   "outputs": [],
   "source": [
    "# Rename the column name : Score(Math Score)\n",
    "\n",
    "clean_df.rename(columns = {'PV1MATH' : 'Score'}, inplace = True)"
   ]
  },
  {
   "cell_type": "code",
   "execution_count": 88,
   "metadata": {},
   "outputs": [],
   "source": [
    "# Rename the column name : Country(CNT)\n",
    "\n",
    "clean_df.rename(columns = {'CNT' : 'Country'}, inplace = True)"
   ]
  },
  {
   "cell_type": "code",
   "execution_count": 89,
   "metadata": {},
   "outputs": [
    {
     "name": "stdout",
     "output_type": "stream",
     "text": [
      "<class 'pandas.core.frame.DataFrame'>\n",
      "Int64Index: 13862 entries, 175676 to 295893\n",
      "Data columns (total 13 columns):\n",
      " #   Column   Non-Null Count  Dtype  \n",
      "---  ------   --------------  -----  \n",
      " 0   MA_1     9033 non-null   object \n",
      " 1   MA_2     9022 non-null   object \n",
      " 2   MA_3     9019 non-null   object \n",
      " 3   MA_4     9018 non-null   object \n",
      " 4   MA_5     9022 non-null   object \n",
      " 5   AF_1     9076 non-null   object \n",
      " 6   AF_2     9066 non-null   object \n",
      " 7   AF_3     9047 non-null   object \n",
      " 8   AF_4     9054 non-null   object \n",
      " 9   AF_5     9051 non-null   object \n",
      " 10  AF_6     9067 non-null   object \n",
      " 11  Score    13862 non-null  float64\n",
      " 12  Country  13862 non-null  object \n",
      "dtypes: float64(1), object(12)\n",
      "memory usage: 1.5+ MB\n"
     ]
    }
   ],
   "source": [
    "# Final clean_df\n",
    "\n",
    "clean_df.info()"
   ]
  },
  {
   "cell_type": "code",
   "execution_count": 90,
   "metadata": {},
   "outputs": [
    {
     "data": {
      "text/html": [
       "<div>\n",
       "<style scoped>\n",
       "    .dataframe tbody tr th:only-of-type {\n",
       "        vertical-align: middle;\n",
       "    }\n",
       "\n",
       "    .dataframe tbody tr th {\n",
       "        vertical-align: top;\n",
       "    }\n",
       "\n",
       "    .dataframe thead th {\n",
       "        text-align: right;\n",
       "    }\n",
       "</style>\n",
       "<table border=\"1\" class=\"dataframe\">\n",
       "  <thead>\n",
       "    <tr style=\"text-align: right;\">\n",
       "      <th></th>\n",
       "      <th>MA_1</th>\n",
       "      <th>MA_2</th>\n",
       "      <th>MA_3</th>\n",
       "      <th>MA_4</th>\n",
       "      <th>MA_5</th>\n",
       "      <th>AF_1</th>\n",
       "      <th>AF_2</th>\n",
       "      <th>AF_3</th>\n",
       "      <th>AF_4</th>\n",
       "      <th>AF_5</th>\n",
       "      <th>AF_6</th>\n",
       "      <th>Score</th>\n",
       "      <th>Country</th>\n",
       "    </tr>\n",
       "  </thead>\n",
       "  <tbody>\n",
       "    <tr>\n",
       "      <th>175676</th>\n",
       "      <td>Agree</td>\n",
       "      <td>Disagree</td>\n",
       "      <td>Disagree</td>\n",
       "      <td>Disagree</td>\n",
       "      <td>Agree</td>\n",
       "      <td>Likely</td>\n",
       "      <td>Likely</td>\n",
       "      <td>Not at all likely</td>\n",
       "      <td>Likely</td>\n",
       "      <td>Likely</td>\n",
       "      <td>Not at all likely</td>\n",
       "      <td>520.5717</td>\n",
       "      <td>Finland</td>\n",
       "    </tr>\n",
       "    <tr>\n",
       "      <th>175677</th>\n",
       "      <td>Agree</td>\n",
       "      <td>NaN</td>\n",
       "      <td>Agree</td>\n",
       "      <td>Disagree</td>\n",
       "      <td>Strongly agree</td>\n",
       "      <td>NaN</td>\n",
       "      <td>Very   Likely</td>\n",
       "      <td>Likely</td>\n",
       "      <td>Likely</td>\n",
       "      <td>Likely</td>\n",
       "      <td>Very   Likely</td>\n",
       "      <td>427.8003</td>\n",
       "      <td>Finland</td>\n",
       "    </tr>\n",
       "    <tr>\n",
       "      <th>175678</th>\n",
       "      <td>Agree</td>\n",
       "      <td>Disagree</td>\n",
       "      <td>Disagree</td>\n",
       "      <td>Disagree</td>\n",
       "      <td>Agree</td>\n",
       "      <td>NaN</td>\n",
       "      <td>NaN</td>\n",
       "      <td>NaN</td>\n",
       "      <td>NaN</td>\n",
       "      <td>NaN</td>\n",
       "      <td>NaN</td>\n",
       "      <td>207.0494</td>\n",
       "      <td>Finland</td>\n",
       "    </tr>\n",
       "    <tr>\n",
       "      <th>175679</th>\n",
       "      <td>Agree</td>\n",
       "      <td>Strongly disagree</td>\n",
       "      <td>Strongly disagree</td>\n",
       "      <td>Strongly disagree</td>\n",
       "      <td>Strongly agree</td>\n",
       "      <td>NaN</td>\n",
       "      <td>NaN</td>\n",
       "      <td>NaN</td>\n",
       "      <td>NaN</td>\n",
       "      <td>NaN</td>\n",
       "      <td>NaN</td>\n",
       "      <td>559.4407</td>\n",
       "      <td>Finland</td>\n",
       "    </tr>\n",
       "    <tr>\n",
       "      <th>175680</th>\n",
       "      <td>Agree</td>\n",
       "      <td>Agree</td>\n",
       "      <td>Disagree</td>\n",
       "      <td>Disagree</td>\n",
       "      <td>Disagree</td>\n",
       "      <td>NaN</td>\n",
       "      <td>NaN</td>\n",
       "      <td>NaN</td>\n",
       "      <td>NaN</td>\n",
       "      <td>NaN</td>\n",
       "      <td>NaN</td>\n",
       "      <td>432.6297</td>\n",
       "      <td>Finland</td>\n",
       "    </tr>\n",
       "  </tbody>\n",
       "</table>\n",
       "</div>"
      ],
      "text/plain": [
       "         MA_1               MA_2               MA_3               MA_4  \\\n",
       "175676  Agree           Disagree           Disagree           Disagree   \n",
       "175677  Agree                NaN              Agree           Disagree   \n",
       "175678  Agree           Disagree           Disagree           Disagree   \n",
       "175679  Agree  Strongly disagree  Strongly disagree  Strongly disagree   \n",
       "175680  Agree              Agree           Disagree           Disagree   \n",
       "\n",
       "                  MA_5    AF_1           AF_2               AF_3    AF_4  \\\n",
       "175676           Agree  Likely         Likely  Not at all likely  Likely   \n",
       "175677  Strongly agree     NaN  Very   Likely             Likely  Likely   \n",
       "175678           Agree     NaN            NaN                NaN     NaN   \n",
       "175679  Strongly agree     NaN            NaN                NaN     NaN   \n",
       "175680        Disagree     NaN            NaN                NaN     NaN   \n",
       "\n",
       "          AF_5               AF_6     Score  Country  \n",
       "175676  Likely  Not at all likely  520.5717  Finland  \n",
       "175677  Likely      Very   Likely  427.8003  Finland  \n",
       "175678     NaN                NaN  207.0494  Finland  \n",
       "175679     NaN                NaN  559.4407  Finland  \n",
       "175680     NaN                NaN  432.6297  Finland  "
      ]
     },
     "execution_count": 90,
     "metadata": {},
     "output_type": "execute_result"
    }
   ],
   "source": [
    "clean_df.head()"
   ]
  },
  {
   "cell_type": "code",
   "execution_count": 91,
   "metadata": {},
   "outputs": [
    {
     "data": {
      "text/plain": [
       "array(['Agree', nan, 'Disagree', 'Strongly disagree', 'Strongly agree'],\n",
       "      dtype=object)"
      ]
     },
     "execution_count": 91,
     "metadata": {},
     "output_type": "execute_result"
    }
   ],
   "source": [
    "# Convert qualitative value into quantitative : MA_1 ~ MA_5\n",
    "\n",
    "clean_df['MA_1'].unique()"
   ]
  },
  {
   "cell_type": "code",
   "execution_count": 92,
   "metadata": {},
   "outputs": [],
   "source": [
    "# Assign the value based on the scale\n",
    "\n",
    "def result(x):\n",
    "    if x == 'Strongly disagree':\n",
    "        return -2\n",
    "    if x == 'Disagree':\n",
    "        return -1\n",
    "    if x == 'Agree':\n",
    "        return 1\n",
    "    if x == 'Strongly agree':\n",
    "        return 2\n",
    "    else:\n",
    "        pass"
   ]
  },
  {
   "cell_type": "code",
   "execution_count": 93,
   "metadata": {},
   "outputs": [],
   "source": [
    "# Apply the function\n",
    "\n",
    "clean_df['MA_1'] = clean_df['MA_1'].apply(result)"
   ]
  },
  {
   "cell_type": "code",
   "execution_count": 94,
   "metadata": {},
   "outputs": [
    {
     "data": {
      "text/plain": [
       "array([ 1., nan, -1., -2.,  2.])"
      ]
     },
     "execution_count": 94,
     "metadata": {},
     "output_type": "execute_result"
    }
   ],
   "source": [
    "clean_df['MA_1'].unique()"
   ]
  },
  {
   "cell_type": "code",
   "execution_count": 95,
   "metadata": {},
   "outputs": [],
   "source": [
    "# Handle the nan value\n",
    "\n",
    "clean_df['MA_1'] = clean_df['MA_1'].fillna(clean_df['MA_1'].mean())"
   ]
  },
  {
   "cell_type": "code",
   "execution_count": 96,
   "metadata": {},
   "outputs": [
    {
     "data": {
      "text/plain": [
       "array([ 1.        ,  0.33167276, -1.        , -2.        ,  2.        ])"
      ]
     },
     "execution_count": 96,
     "metadata": {},
     "output_type": "execute_result"
    }
   ],
   "source": [
    "clean_df['MA_1'].unique()"
   ]
  },
  {
   "cell_type": "code",
   "execution_count": 97,
   "metadata": {},
   "outputs": [],
   "source": [
    "# Apply this process to remaining columns\n",
    "\n",
    "clean_df['MA_2'] = clean_df['MA_2'].apply(result)\n",
    "clean_df['MA_2'] = clean_df['MA_2'].fillna(clean_df['MA_2'].mean())"
   ]
  },
  {
   "cell_type": "code",
   "execution_count": 98,
   "metadata": {},
   "outputs": [],
   "source": [
    "clean_df['MA_3'] = clean_df['MA_3'].apply(result)\n",
    "clean_df['MA_3'] = clean_df['MA_3'].fillna(clean_df['MA_3'].mean())"
   ]
  },
  {
   "cell_type": "code",
   "execution_count": 99,
   "metadata": {},
   "outputs": [],
   "source": [
    "clean_df['MA_4'] = clean_df['MA_4'].apply(result)\n",
    "clean_df['MA_4'] = clean_df['MA_4'].fillna(clean_df['MA_4'].mean())"
   ]
  },
  {
   "cell_type": "code",
   "execution_count": 100,
   "metadata": {},
   "outputs": [],
   "source": [
    "clean_df['MA_5'] = clean_df['MA_5'].apply(result)\n",
    "clean_df['MA_5'] = clean_df['MA_5'].fillna(clean_df['MA_5'].mean())"
   ]
  },
  {
   "cell_type": "code",
   "execution_count": 101,
   "metadata": {},
   "outputs": [
    {
     "name": "stdout",
     "output_type": "stream",
     "text": [
      "<class 'pandas.core.frame.DataFrame'>\n",
      "Int64Index: 13862 entries, 175676 to 295893\n",
      "Data columns (total 13 columns):\n",
      " #   Column   Non-Null Count  Dtype  \n",
      "---  ------   --------------  -----  \n",
      " 0   MA_1     13862 non-null  float64\n",
      " 1   MA_2     13862 non-null  float64\n",
      " 2   MA_3     13862 non-null  float64\n",
      " 3   MA_4     13862 non-null  float64\n",
      " 4   MA_5     13862 non-null  float64\n",
      " 5   AF_1     9076 non-null   object \n",
      " 6   AF_2     9066 non-null   object \n",
      " 7   AF_3     9047 non-null   object \n",
      " 8   AF_4     9054 non-null   object \n",
      " 9   AF_5     9051 non-null   object \n",
      " 10  AF_6     9067 non-null   object \n",
      " 11  Score    13862 non-null  float64\n",
      " 12  Country  13862 non-null  object \n",
      "dtypes: float64(6), object(7)\n",
      "memory usage: 1.5+ MB\n"
     ]
    }
   ],
   "source": [
    "clean_df.info()"
   ]
  },
  {
   "cell_type": "code",
   "execution_count": 102,
   "metadata": {},
   "outputs": [
    {
     "data": {
      "text/plain": [
       "array(['Likely', nan, 'Slightly likely', 'Very   Likely',\n",
       "       'Not at all likely'], dtype=object)"
      ]
     },
     "execution_count": 102,
     "metadata": {},
     "output_type": "execute_result"
    }
   ],
   "source": [
    "# Convert qualitative value into quantitative : AF_1 ~ AF_6\n",
    "\n",
    "clean_df['AF_1'].unique()"
   ]
  },
  {
   "cell_type": "code",
   "execution_count": 103,
   "metadata": {},
   "outputs": [],
   "source": [
    "# Assign the value based on the scale\n",
    "\n",
    "def result(x):\n",
    "    if x == 'Not at all likely':\n",
    "        return -2\n",
    "    elif x == 'Slightly likely':\n",
    "        return -1\n",
    "    elif x == 'Likely':\n",
    "        return 1\n",
    "    elif x == 'Very Likely':\n",
    "        return 2\n",
    "    else : \n",
    "        pass"
   ]
  },
  {
   "cell_type": "code",
   "execution_count": 104,
   "metadata": {},
   "outputs": [],
   "source": [
    "# Apply the function\n",
    "\n",
    "clean_df['AF_1'] = clean_df['AF_1'].apply(result)"
   ]
  },
  {
   "cell_type": "code",
   "execution_count": 105,
   "metadata": {},
   "outputs": [
    {
     "data": {
      "text/plain": [
       "array([ 1., nan, -1., -2.])"
      ]
     },
     "execution_count": 105,
     "metadata": {},
     "output_type": "execute_result"
    }
   ],
   "source": [
    "clean_df['AF_1'].unique()"
   ]
  },
  {
   "cell_type": "code",
   "execution_count": 107,
   "metadata": {},
   "outputs": [],
   "source": [
    "# Handle the nan\n",
    "\n",
    "clean_df['AF_1'] = clean_df['AF_1'].fillna(clean_df['AF_1'].mean())"
   ]
  },
  {
   "cell_type": "code",
   "execution_count": 108,
   "metadata": {},
   "outputs": [],
   "source": [
    "# Apply this process to remaining columns\n",
    "\n",
    "clean_df['AF_2'] = clean_df['AF_2'].apply(result)\n",
    "clean_df['AF_2'] = clean_df['AF_2'].fillna(clean_df['AF_2'].mean())"
   ]
  },
  {
   "cell_type": "code",
   "execution_count": 109,
   "metadata": {},
   "outputs": [],
   "source": [
    "clean_df['AF_3'] = clean_df['AF_3'].apply(result)\n",
    "clean_df['AF_3'] = clean_df['AF_3'].fillna(clean_df['AF_3'].mean())"
   ]
  },
  {
   "cell_type": "code",
   "execution_count": 110,
   "metadata": {},
   "outputs": [],
   "source": [
    "clean_df['AF_4'] = clean_df['AF_4'].apply(result)\n",
    "clean_df['AF_4'] = clean_df['AF_4'].fillna(clean_df['AF_4'].mean())"
   ]
  },
  {
   "cell_type": "code",
   "execution_count": 111,
   "metadata": {},
   "outputs": [],
   "source": [
    "clean_df['AF_5'] = clean_df['AF_5'].apply(result)\n",
    "clean_df['AF_5'] = clean_df['AF_5'].fillna(clean_df['AF_5'].mean())"
   ]
  },
  {
   "cell_type": "code",
   "execution_count": 112,
   "metadata": {},
   "outputs": [],
   "source": [
    "clean_df['AF_6'] = clean_df['AF_6'].apply(result)\n",
    "clean_df['AF_6'] = clean_df['AF_6'].fillna(clean_df['AF_6'].mean())"
   ]
  },
  {
   "cell_type": "code",
   "execution_count": 113,
   "metadata": {},
   "outputs": [
    {
     "name": "stdout",
     "output_type": "stream",
     "text": [
      "<class 'pandas.core.frame.DataFrame'>\n",
      "Int64Index: 13862 entries, 175676 to 295893\n",
      "Data columns (total 13 columns):\n",
      " #   Column   Non-Null Count  Dtype  \n",
      "---  ------   --------------  -----  \n",
      " 0   MA_1     13862 non-null  float64\n",
      " 1   MA_2     13862 non-null  float64\n",
      " 2   MA_3     13862 non-null  float64\n",
      " 3   MA_4     13862 non-null  float64\n",
      " 4   MA_5     13862 non-null  float64\n",
      " 5   AF_1     13862 non-null  float64\n",
      " 6   AF_2     13862 non-null  float64\n",
      " 7   AF_3     13862 non-null  float64\n",
      " 8   AF_4     13862 non-null  float64\n",
      " 9   AF_5     13862 non-null  float64\n",
      " 10  AF_6     13862 non-null  float64\n",
      " 11  Score    13862 non-null  float64\n",
      " 12  Country  13862 non-null  object \n",
      "dtypes: float64(12), object(1)\n",
      "memory usage: 1.5+ MB\n"
     ]
    }
   ],
   "source": [
    "clean_df.info()"
   ]
  },
  {
   "cell_type": "markdown",
   "metadata": {},
   "source": [
    "## Final DataFrame"
   ]
  },
  {
   "cell_type": "code",
   "execution_count": 114,
   "metadata": {},
   "outputs": [
    {
     "data": {
      "text/html": [
       "<div>\n",
       "<style scoped>\n",
       "    .dataframe tbody tr th:only-of-type {\n",
       "        vertical-align: middle;\n",
       "    }\n",
       "\n",
       "    .dataframe tbody tr th {\n",
       "        vertical-align: top;\n",
       "    }\n",
       "\n",
       "    .dataframe thead th {\n",
       "        text-align: right;\n",
       "    }\n",
       "</style>\n",
       "<table border=\"1\" class=\"dataframe\">\n",
       "  <thead>\n",
       "    <tr style=\"text-align: right;\">\n",
       "      <th></th>\n",
       "      <th>MA_1</th>\n",
       "      <th>MA_2</th>\n",
       "      <th>MA_3</th>\n",
       "      <th>MA_4</th>\n",
       "      <th>MA_5</th>\n",
       "      <th>AF_1</th>\n",
       "      <th>AF_2</th>\n",
       "      <th>AF_3</th>\n",
       "      <th>AF_4</th>\n",
       "      <th>AF_5</th>\n",
       "      <th>AF_6</th>\n",
       "      <th>Score</th>\n",
       "      <th>Country</th>\n",
       "    </tr>\n",
       "  </thead>\n",
       "  <tbody>\n",
       "    <tr>\n",
       "      <th>175676</th>\n",
       "      <td>1.0</td>\n",
       "      <td>-1.000000</td>\n",
       "      <td>-1.0</td>\n",
       "      <td>-1.0</td>\n",
       "      <td>1.0</td>\n",
       "      <td>1.00000</td>\n",
       "      <td>1.000000</td>\n",
       "      <td>-2.000000</td>\n",
       "      <td>1.000000</td>\n",
       "      <td>1.000000</td>\n",
       "      <td>-2.000000</td>\n",
       "      <td>520.5717</td>\n",
       "      <td>Finland</td>\n",
       "    </tr>\n",
       "    <tr>\n",
       "      <th>175677</th>\n",
       "      <td>1.0</td>\n",
       "      <td>-0.896697</td>\n",
       "      <td>1.0</td>\n",
       "      <td>-1.0</td>\n",
       "      <td>2.0</td>\n",
       "      <td>-0.22137</td>\n",
       "      <td>-0.587813</td>\n",
       "      <td>1.000000</td>\n",
       "      <td>1.000000</td>\n",
       "      <td>1.000000</td>\n",
       "      <td>-0.556781</td>\n",
       "      <td>427.8003</td>\n",
       "      <td>Finland</td>\n",
       "    </tr>\n",
       "    <tr>\n",
       "      <th>175678</th>\n",
       "      <td>1.0</td>\n",
       "      <td>-1.000000</td>\n",
       "      <td>-1.0</td>\n",
       "      <td>-1.0</td>\n",
       "      <td>1.0</td>\n",
       "      <td>-0.22137</td>\n",
       "      <td>-0.587813</td>\n",
       "      <td>-0.639025</td>\n",
       "      <td>0.017184</td>\n",
       "      <td>-0.325427</td>\n",
       "      <td>-0.556781</td>\n",
       "      <td>207.0494</td>\n",
       "      <td>Finland</td>\n",
       "    </tr>\n",
       "    <tr>\n",
       "      <th>175679</th>\n",
       "      <td>1.0</td>\n",
       "      <td>-2.000000</td>\n",
       "      <td>-2.0</td>\n",
       "      <td>-2.0</td>\n",
       "      <td>2.0</td>\n",
       "      <td>-0.22137</td>\n",
       "      <td>-0.587813</td>\n",
       "      <td>-0.639025</td>\n",
       "      <td>0.017184</td>\n",
       "      <td>-0.325427</td>\n",
       "      <td>-0.556781</td>\n",
       "      <td>559.4407</td>\n",
       "      <td>Finland</td>\n",
       "    </tr>\n",
       "    <tr>\n",
       "      <th>175680</th>\n",
       "      <td>1.0</td>\n",
       "      <td>1.000000</td>\n",
       "      <td>-1.0</td>\n",
       "      <td>-1.0</td>\n",
       "      <td>-1.0</td>\n",
       "      <td>-0.22137</td>\n",
       "      <td>-0.587813</td>\n",
       "      <td>-0.639025</td>\n",
       "      <td>0.017184</td>\n",
       "      <td>-0.325427</td>\n",
       "      <td>-0.556781</td>\n",
       "      <td>432.6297</td>\n",
       "      <td>Finland</td>\n",
       "    </tr>\n",
       "  </tbody>\n",
       "</table>\n",
       "</div>"
      ],
      "text/plain": [
       "        MA_1      MA_2  MA_3  MA_4  MA_5     AF_1      AF_2      AF_3  \\\n",
       "175676   1.0 -1.000000  -1.0  -1.0   1.0  1.00000  1.000000 -2.000000   \n",
       "175677   1.0 -0.896697   1.0  -1.0   2.0 -0.22137 -0.587813  1.000000   \n",
       "175678   1.0 -1.000000  -1.0  -1.0   1.0 -0.22137 -0.587813 -0.639025   \n",
       "175679   1.0 -2.000000  -2.0  -2.0   2.0 -0.22137 -0.587813 -0.639025   \n",
       "175680   1.0  1.000000  -1.0  -1.0  -1.0 -0.22137 -0.587813 -0.639025   \n",
       "\n",
       "            AF_4      AF_5      AF_6     Score  Country  \n",
       "175676  1.000000  1.000000 -2.000000  520.5717  Finland  \n",
       "175677  1.000000  1.000000 -0.556781  427.8003  Finland  \n",
       "175678  0.017184 -0.325427 -0.556781  207.0494  Finland  \n",
       "175679  0.017184 -0.325427 -0.556781  559.4407  Finland  \n",
       "175680  0.017184 -0.325427 -0.556781  432.6297  Finland  "
      ]
     },
     "execution_count": 114,
     "metadata": {},
     "output_type": "execute_result"
    }
   ],
   "source": [
    "clean_df.head()"
   ]
  },
  {
   "cell_type": "markdown",
   "metadata": {},
   "source": [
    "### Column Description\n",
    "\n",
    "`MA_1` : Worry that math will be difficult<br/>\n",
    "`MA_2` : Get very Tense<br/>\n",
    "`MA_3` : Get very Nervous<br/>\n",
    "`MA_4` : Feel Helpless<br/>\n",
    "`MA_5` : Worry about getting poor grades\n",
    "\n",
    "`AF_1` : I'm not good at math<br/>\n",
    "`AF_2` : Teacher did not explain well<br/>\n",
    "`AF_3` : Bad guesses<br/>\n",
    "`AF_4` : Material Too Hard<br/>\n",
    "`AF_5` : Teacher didn't get students Interested<br/>\n",
    "`AF_6` : Unlucky"
   ]
  },
  {
   "cell_type": "markdown",
   "metadata": {},
   "source": [
    "# Univariate Exploration"
   ]
  },
  {
   "cell_type": "markdown",
   "metadata": {},
   "source": [
    "### 1. How many student?"
   ]
  },
  {
   "cell_type": "code",
   "execution_count": 115,
   "metadata": {},
   "outputs": [
    {
     "name": "stdout",
     "output_type": "stream",
     "text": [
      "5033\n"
     ]
    }
   ],
   "source": [
    "print(len(clean_df.query(\"Country == 'Korea'\"))) # Korea"
   ]
  },
  {
   "cell_type": "code",
   "execution_count": 116,
   "metadata": {},
   "outputs": [
    {
     "name": "stdout",
     "output_type": "stream",
     "text": [
      "8829\n"
     ]
    }
   ],
   "source": [
    "print(len(clean_df.query(\"Country == 'Finland'\"))) # Finland"
   ]
  },
  {
   "cell_type": "markdown",
   "metadata": {},
   "source": [
    "> For Korea, there are 5033 students in this country and Finland has 8829 students."
   ]
  },
  {
   "cell_type": "markdown",
   "metadata": {},
   "source": [
    "### 2. What type of math anxiety have appeared the most?"
   ]
  },
  {
   "cell_type": "code",
   "execution_count": 117,
   "metadata": {},
   "outputs": [],
   "source": [
    "ma_mean = clean_df[['MA_1','MA_2','MA_3','MA_4','MA_5']].mean()"
   ]
  },
  {
   "cell_type": "code",
   "execution_count": 118,
   "metadata": {},
   "outputs": [
    {
     "data": {
      "text/plain": [
       "MA_1    0.331673\n",
       "MA_2   -0.896697\n",
       "MA_3   -0.621355\n",
       "MA_4   -0.466955\n",
       "MA_5    0.420638\n",
       "dtype: float64"
      ]
     },
     "execution_count": 118,
     "metadata": {},
     "output_type": "execute_result"
    }
   ],
   "source": [
    "ma_mean"
   ]
  },
  {
   "cell_type": "code",
   "execution_count": 119,
   "metadata": {},
   "outputs": [
    {
     "data": {
      "text/plain": [
       "Text(0, 0.5, 'Level of Math Anxiety')"
      ]
     },
     "execution_count": 119,
     "metadata": {},
     "output_type": "execute_result"
    },
    {
     "data": {
      "image/png": "[encoded data removed]",
      "text/plain": [
       "<Figure size 432x288 with 1 Axes>"
      ]
     },
     "metadata": {
      "needs_background": "light"
     },
     "output_type": "display_data"
    }
   ],
   "source": [
    "ma_mean.plot(kind = 'bar')\n",
    "plt.title(\"Highest Level of Math Anxiety\")\n",
    "plt.xlabel(\"Type of Math Anxiety\")\n",
    "plt.ylabel(\"Level of Math Anxiety\")"
   ]
  },
  {
   "cell_type": "markdown",
   "metadata": {},
   "source": [
    "- Why did I use bar plot?<br/>\n",
    "I think it's easier to compare each type of math anxiety in comparion to other type of math anxiety<br/>\n",
    "\n",
    "- Is there anything that you think you need to polish or improve when it comes to your visualization?<br/>\n",
    "After doing this, I realized two things that I need to fix.<br/>\n",
    "Frist of all, people who didn't read the column decription couldn't understand what the columns meant, such as MA_1 in this graph.<br/>\n",
    "Seondly, it quite seems unorganized that make you feel confused to interpret this graph"
   ]
  },
  {
   "cell_type": "code",
   "execution_count": 126,
   "metadata": {},
   "outputs": [],
   "source": [
    "# replace the yticks name\n",
    "\n",
    "anxiety_keys = {\"MA_1\":\"Difficult\",\n",
    "               \"MA_2\":\"Tense\",\n",
    "               \"MA_3\":\"Nervous\",\n",
    "               \"MA_4\":\"Helpless\",\n",
    "               \"MA_5\":\"Poor Grades\"}"
   ]
  },
  {
   "cell_type": "code",
   "execution_count": 127,
   "metadata": {},
   "outputs": [],
   "source": [
    "def replaceKeys(y = True):\n",
    "    if y:\n",
    "        pos, lab = plt.yticks()\n",
    "        new_lab = [anxiety_keys[x.get_text()] for x in lab]\n",
    "        plt.yticks(pos, new_lab);\n",
    "    else:\n",
    "        pos, lab = plt.xticks()\n",
    "        new_lab = [anxiety_keys[x.get_text()] for x in lab]\n",
    "        plt.xticks(pos, new_lab);"
   ]
  },
  {
   "cell_type": "code",
   "execution_count": 130,
   "metadata": {},
   "outputs": [
    {
     "data": {
      "image/png": "[encoded data removed]",
      "text/plain": [
       "<Figure size 432x288 with 1 Axes>"
      ]
     },
     "metadata": {
      "needs_background": "light"
     },
     "output_type": "display_data"
    }
   ],
   "source": [
    "ma_mean.plot(kind = 'barh', rot = 0) # make a horizontal bar plot\n",
    "plt.axvline(0, color = 'red') # add a line\n",
    "\n",
    "plt.title(\"Highest Level of Math Anxiety\")\n",
    "plt.xlabel(\"Type of Math Anxiety\")\n",
    "plt.ylabel(\"Level of Math Anxiety\")\n",
    "\n",
    "replaceKeys()"
   ]
  },
  {
   "cell_type": "markdown",
   "metadata": {},
   "source": [
    "### 3. What type of attributions have appeared the most?"
   ]
  },
  {
   "cell_type": "code",
   "execution_count": 133,
   "metadata": {},
   "outputs": [],
   "source": [
    "att_mean = clean_df[['AF_1','AF_2','AF_3','AF_4','AF_5','AF_6']].mean()"
   ]
  },
  {
   "cell_type": "code",
   "execution_count": 134,
   "metadata": {},
   "outputs": [
    {
     "data": {
      "text/plain": [
       "AF_1   -0.221370\n",
       "AF_2   -0.587813\n",
       "AF_3   -0.639025\n",
       "AF_4    0.017184\n",
       "AF_5   -0.325427\n",
       "AF_6   -0.556781\n",
       "dtype: float64"
      ]
     },
     "execution_count": 134,
     "metadata": {},
     "output_type": "execute_result"
    }
   ],
   "source": [
    "att_mean"
   ]
  },
  {
   "cell_type": "code",
   "execution_count": 138,
   "metadata": {},
   "outputs": [],
   "source": [
    "# replace the yticks name\n",
    "\n",
    "att_keys = {\"AF_1\":\"Not Good\",\n",
    "               \"AF_2\":\"Teacher - Explain\",\n",
    "               \"AF_3\":\"Luck\",\n",
    "               \"AF_4\":\"Hard\",\n",
    "               \"AF_5\":\"Teacher - Interested\",\n",
    "               \"AF_6\":\"Unlucky\"}"
   ]
  },
  {
   "cell_type": "code",
   "execution_count": 139,
   "metadata": {},
   "outputs": [],
   "source": [
    "def replaceKeysA(y = True):\n",
    "    if y:\n",
    "        pos, lab = plt.yticks()\n",
    "        new_lab = [att_keys[x.get_text()] for x in lab]\n",
    "        plt.yticks(pos, new_lab);\n",
    "    else:\n",
    "        pos, lab = plt.xticks()\n",
    "        new_lab = [att_keys[x.get_text()] for x in lab]\n",
    "        plt.xticks(pos, new_lab);"
   ]
  },
  {
   "cell_type": "code",
   "execution_count": 142,
   "metadata": {},
   "outputs": [
    {
     "data": {
      "image/png": "[encoded data removed]",
      "text/plain": [
       "<Figure size 432x288 with 1 Axes>"
      ]
     },
     "metadata": {
      "needs_background": "light"
     },
     "output_type": "display_data"
    }
   ],
   "source": [
    "att_mean.plot(kind = 'barh', rot = 0) # make a horizontal bar plot\n",
    "plt.axvline(0, color = 'red') # add a line\n",
    "\n",
    "plt.title(\"Attribution to Failure\")\n",
    "plt.xlabel(\"Level of Attribution\")\n",
    "plt.ylabel(\"Type of Attribution\")\n",
    "\n",
    "replaceKeysA()"
   ]
  },
  {
   "cell_type": "markdown",
   "metadata": {},
   "source": [
    "### 4. How's their math score?"
   ]
  },
  {
   "cell_type": "code",
   "execution_count": 143,
   "metadata": {},
   "outputs": [
    {
     "data": {
      "text/plain": [
       "524.4825157697304"
      ]
     },
     "execution_count": 143,
     "metadata": {},
     "output_type": "execute_result"
    }
   ],
   "source": [
    "# math score mean\n",
    "\n",
    "clean_df['Score'].mean()"
   ]
  },
  {
   "cell_type": "code",
   "execution_count": 144,
   "metadata": {},
   "outputs": [
    {
     "data": {
      "text/plain": [
       "(array([4.000e+00, 5.800e+01, 4.260e+02, 1.597e+03, 3.558e+03, 4.245e+03,\n",
       "        2.848e+03, 9.920e+02, 1.250e+02, 9.000e+00]),\n",
       " array([113.1095 , 190.93315, 268.7568 , 346.58045, 424.4041 , 502.22775,\n",
       "        580.0514 , 657.87505, 735.6987 , 813.52235, 891.346  ]),\n",
       " <a list of 10 Patch objects>)"
      ]
     },
     "execution_count": 144,
     "metadata": {},
     "output_type": "execute_result"
    },
    {
     "data": {
      "image/png": "[encoded data removed]",
      "text/plain": [
       "<Figure size 432x288 with 1 Axes>"
      ]
     },
     "metadata": {
      "needs_background": "light"
     },
     "output_type": "display_data"
    }
   ],
   "source": [
    "# distribution of math score\n",
    "\n",
    "plt.hist(clean_df['Score'])"
   ]
  },
  {
   "cell_type": "code",
   "execution_count": null,
   "metadata": {},
   "outputs": [],
   "source": []
  }
 ],
 "metadata": {
  "kernelspec": {
   "display_name": "Python 3",
   "language": "python",
   "name": "python3"
  },
  "language_info": {
   "codemirror_mode": {
    "name": "ipython",
    "version": 3
   },
   "file_extension": ".py",
   "mimetype": "text/x-python",
   "name": "python",
   "nbconvert_exporter": "python",
   "pygments_lexer": "ipython3",
   "version": "3.8.3"
  }
 },
 "nbformat": 4,
 "nbformat_minor": 4
}
